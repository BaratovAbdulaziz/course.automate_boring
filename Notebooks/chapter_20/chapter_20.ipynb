{
 "cells": [
  {
   "cell_type": "code",
   "execution_count": null,
   "id": "1ae67141",
   "metadata": {},
   "outputs": [],
   "source": [
    "import pyautogui"
   ]
  },
  {
   "cell_type": "code",
   "execution_count": 17,
   "id": "c01df481",
   "metadata": {},
   "outputs": [],
   "source": [
    "import time\n",
    "\n",
    "time.sleep(1)\n",
    "pyautogui.moveTo(129,151,duration=1)\n",
    "pyautogui.click()\n",
    "pyautogui.moveTo(91,185,duration=1)\n",
    "pyautogui.click()\n",
    "pyautogui.moveTo(128,246,duration=1)\n",
    "pyautogui.click()\n"
   ]
  },
  {
   "cell_type": "code",
   "execution_count": 16,
   "id": "26d86a28",
   "metadata": {},
   "outputs": [
    {
     "data": {
      "text/plain": [
       "Point(x=128, y=246)"
      ]
     },
     "execution_count": 16,
     "metadata": {},
     "output_type": "execute_result"
    }
   ],
   "source": [
    "pyautogui.position()"
   ]
  },
  {
   "cell_type": "code",
   "execution_count": 32,
   "id": "639fd7a0",
   "metadata": {},
   "outputs": [],
   "source": [
    "time.sleep(3)\n",
    "pyautogui.hotkey(\"alt\",\"tab\")"
   ]
  },
  {
   "cell_type": "code",
   "execution_count": 37,
   "id": "20be44e9",
   "metadata": {},
   "outputs": [],
   "source": [
    "time.sleep(3)\n",
    "pyautogui.write(\"hello world\",interval=0.1)\n",
    "pyautogui.press(\"backspace\",presses=16,interval=0.1)"
   ]
  },
  {
   "cell_type": "code",
   "execution_count": 41,
   "id": "79a8c4e5",
   "metadata": {},
   "outputs": [],
   "source": [
    "time.sleep(3)\n",
    "pyautogui.hotkey(\"ctrl\",\"A\")"
   ]
  },
  {
   "cell_type": "code",
   "execution_count": null,
   "id": "b8a69714",
   "metadata": {},
   "outputs": [],
   "source": []
  }
 ],
 "metadata": {
  "kernelspec": {
   "display_name": "myenv",
   "language": "python",
   "name": "python3"
  },
  "language_info": {
   "codemirror_mode": {
    "name": "ipython",
    "version": 3
   },
   "file_extension": ".py",
   "mimetype": "text/x-python",
   "name": "python",
   "nbconvert_exporter": "python",
   "pygments_lexer": "ipython3",
   "version": "3.10.18"
  }
 },
 "nbformat": 4,
 "nbformat_minor": 5
}
