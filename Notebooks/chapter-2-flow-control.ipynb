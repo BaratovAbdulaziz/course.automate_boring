{
 "cells": [
  {
   "cell_type": "markdown",
   "id": "7a5c9020",
   "metadata": {},
   "source": [
    "# Flow-control\n",
    "\n",
    "## condition control "
   ]
  },
  {
   "cell_type": "markdown",
   "id": "7fa187d8",
   "metadata": {},
   "source": [
    "# main opirators\n",
    "### \"<=\" ---===>> means first value is less or equal to second value- >>>> returns True\n",
    "### \">=\" ---+===>> means first value is more or equal to second value >>>> returns True\n",
    "### \"==\"---====>>> means both values are exactly the same------------ >>>> returns True\n",
    "### \"!=\"---====>>>> means both sides are not the same---------------- >>>> returns True\n",
    "### \"<\" ---=====>>>>> first Value is less than the second one-------->>>>>>returns True\n",
    "### \">\" ---=====>>>>> first Value is more than the second one-------->>>>>>returns True"
   ]
  },
  {
   "cell_type": "code",
   "execution_count": null,
   "id": "57580d83",
   "metadata": {},
   "outputs": [
    {
     "data": {
      "text/plain": [
       "False"
      ]
     },
     "execution_count": 4,
     "metadata": {},
     "output_type": "execute_result"
    }
   ],
   "source": [
    "# Examples\n",
    "\n",
    "2<1\n",
    "# False\n",
    "\n",
    "2>1\n",
    "# True\n",
    "\n",
    "2==2\n",
    "#True\n",
    "\n",
    "2!=2\n",
    "# False"
   ]
  },
  {
   "cell_type": "code",
   "execution_count": null,
   "id": "d02b841e",
   "metadata": {},
   "outputs": [
    {
     "data": {
      "text/plain": [
       "True"
      ]
     },
     "execution_count": 7,
     "metadata": {},
     "output_type": "execute_result"
    }
   ],
   "source": [
    "# Text value comparisons\n",
    "\n",
    "# we can just check they are the same or not the same\n",
    "\n",
    "\"hello\"==\"hello\"\n",
    "# True\n",
    "\n",
    "\"Hello\"==\"hello\"\n",
    "# False\n",
    "\n",
    "# one character change or the same word but with different cases return false\n",
    "\n",
    "\"hello\"!=\"hello \"\n",
    "#True\n",
    "#\" \" space is also character\n"
   ]
  },
  {
   "cell_type": "code",
   "execution_count": null,
   "id": "e193a7d7",
   "metadata": {},
   "outputs": [
    {
     "data": {
      "text/plain": [
       "False"
      ]
     },
     "execution_count": 1,
     "metadata": {},
     "output_type": "execute_result"
    }
   ],
   "source": [
    "# we can use all of them ==,<,>,<=,>= and it will compare based on the ID it has\n",
    "# examples \n",
    "\n",
    "\"a\"<\"x\"\n",
    "# output:true\n",
    "\n",
    "\"H\">\"Z\"\n",
    "# output:false"
   ]
  },
  {
   "cell_type": "code",
   "execution_count": null,
   "id": "4e557005",
   "metadata": {},
   "outputs": [],
   "source": [
    "# Int and floats  are the same values so comparing that is easy and possible\n",
    "\n",
    "23==23.0\n",
    "# output:True\n",
    "\n",
    "23!=23.0\n",
    "# Output False\n"
   ]
  },
  {
   "cell_type": "code",
   "execution_count": 5,
   "id": "d3f82de1",
   "metadata": {},
   "outputs": [
    {
     "data": {
      "text/plain": [
       "True"
      ]
     },
     "execution_count": 5,
     "metadata": {},
     "output_type": "execute_result"
    }
   ],
   "source": [
    "# Str and Int are not the same format\n",
    "42==\"42\"\n",
    "#Output: False\n",
    "\n",
    "# we can calvert different format to another format\n",
    "\n",
    "22==int(\"22\")\n",
    "# Output:True"
   ]
  },
  {
   "cell_type": "code",
   "execution_count": null,
   "id": "518fad6e",
   "metadata": {},
   "outputs": [
    {
     "data": {
      "text/plain": [
       "False"
      ]
     },
     "execution_count": 4,
     "metadata": {},
     "output_type": "execute_result"
    }
   ],
   "source": [
    "# we can also use variables to make this conditions\n",
    "\n",
    "egg=10\n",
    "egg<=10\n",
    "# Output True\n",
    "\n",
    "tree = 13\n",
    "tree-= 10\n",
    "tree>3\n",
    "# output False"
   ]
  },
  {
   "cell_type": "markdown",
   "id": "595a39a7",
   "metadata": {},
   "source": [
    "# Binary operators"
   ]
  },
  {
   "cell_type": "code",
   "execution_count": null,
   "id": "751e32f6",
   "metadata": {},
   "outputs": [],
   "source": [
    "# Binary operators are 3\n",
    "# and or not\n",
    "\n",
    "# And --- both sides True == True\n",
    "\n",
    "# Syntax\n",
    "# True and True ----====> True\n",
    "# False and True ---====> False\n",
    "\n",
    "# Or --- at least 1 condition should be  True\n",
    "\n",
    "# Syntax\n",
    "\n",
    "# True Or false == True\n",
    "\n",
    "# not ----- changes the boolean value\n",
    "\n",
    "# Syntax\n",
    "# Not True == False"
   ]
  },
  {
   "cell_type": "code",
   "execution_count": null,
   "id": "bf7abc69",
   "metadata": {},
   "outputs": [
    {
     "data": {
      "text/plain": [
       "False"
      ]
     },
     "execution_count": 6,
     "metadata": {},
     "output_type": "execute_result"
    }
   ],
   "source": [
    "# Examples for Binary operators\n",
    "\n",
    "# AND\n",
    "\n",
    "22==22 and 12==12\n",
    "# True\n",
    "\n",
    "12==11 and 11==11\n",
    "# False\n",
    "\n",
    "# OR\n",
    "\n",
    "22==22 or 12==11\n",
    "# True\n",
    "\n",
    "12==22 or 00>12\n",
    "# False\n",
    "\n",
    "# not\n",
    "\n",
    "not True\n",
    "# output: false\n",
    "\n",
    "not False\n",
    "# output True"
   ]
  },
  {
   "cell_type": "code",
   "execution_count": 7,
   "id": "5784f55c",
   "metadata": {},
   "outputs": [
    {
     "name": "stdout",
     "output_type": "stream",
     "text": [
      "0\n",
      "1\n",
      "2\n",
      "3\n",
      "4\n",
      "5\n",
      "6\n",
      "7\n",
      "8\n",
      "9\n"
     ]
    }
   ],
   "source": [
    "# while --- does what ever is indented until a given condition is not false\n",
    "\n",
    "# variable for condition making for while loop\n",
    "spam = 0\n",
    "\n",
    "#Until variable is less than 10 do inside indented block\n",
    "while spam<10:\n",
    "\n",
    "    # indented: prints the value of variable spam\n",
    "    print(spam)\n",
    "    # adds 1 to the value of spam variable\n",
    "    spam+=1\n",
    "# End exacting until the value of spam is not equal to 10 it will continue doing the same thing"
   ]
  },
  {
   "cell_type": "code",
   "execution_count": null,
   "id": "2ccfbe61",
   "metadata": {},
   "outputs": [
    {
     "ename": "SyntaxError",
     "evalue": "invalid syntax (1770770149.py, line 3)",
     "output_type": "error",
     "traceback": [
      "  \u001b[36mCell\u001b[39m\u001b[36m \u001b[39m\u001b[32mIn[9]\u001b[39m\u001b[32m, line 3\u001b[39m\n\u001b[31m    \u001b[39m\u001b[31m@\u001b[39m\n     ^\n\u001b[31mSyntaxError\u001b[39m\u001b[31m:\u001b[39m invalid syntax\n"
     ]
    }
   ],
   "source": [
    "# for loops are used to run program a specific amount of times\n",
    "\n",
    "# for variable function or any condition \":\"\n",
    "    # anything but indented\n",
    "for i in range(12):\n",
    "\n",
    "    \n",
    "    # printing value of for loop\n",
    "    print(i)"
   ]
  },
  {
   "cell_type": "code",
   "execution_count": null,
   "id": "e95b4cf9",
   "metadata": {},
   "outputs": [
    {
     "name": "stdout",
     "output_type": "stream",
     "text": [
      "is it raining(y/n)?"
     ]
    }
   ],
   "source": [
    "! python3 ../programs/Chapter-2-Flow_control.py "
   ]
  }
 ],
 "metadata": {
  "kernelspec": {
   "display_name": ".venv",
   "language": "python",
   "name": "python3"
  },
  "language_info": {
   "codemirror_mode": {
    "name": "ipython",
    "version": 3
   },
   "file_extension": ".py",
   "mimetype": "text/x-python",
   "name": "python",
   "nbconvert_exporter": "python",
   "pygments_lexer": "ipython3",
   "version": "3.13.3"
  }
 },
 "nbformat": 4,
 "nbformat_minor": 5
}
