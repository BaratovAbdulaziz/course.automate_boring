{
 "cells": [
  {
   "cell_type": "markdown",
   "id": "cf0a0fa6",
   "metadata": {},
   "source": [
    "<h1 align=\"middle\">Lists</h1>"
   ]
  },
  {
   "cell_type": "markdown",
   "id": "de861d1e",
   "metadata": {},
   "source": [
    "### Lists in Python are ordered collections that can store multiple items in a single variable. They are mutable, meaning their contents can be changed after creation. Lists are defined using square brackets `[]`, and items are separated by commas.\n",
    "## Types of Lists\n",
    "\n",
    "- **Empty List**: `[]`\n",
    "- **List of Integers**: `[1, 2, 3, 4]`\n",
    "- **List of Strings**: `['apple', 'banana', 'cherry']`\n",
    "- **Mixed Data Types**: `[1, 'hello', 3.14, True]`\n",
    "- **Nested Lists**: `[[1, 2], [3, 4]]`"
   ]
  },
  {
   "cell_type": "code",
   "execution_count": 1,
   "id": "4f33e209",
   "metadata": {},
   "outputs": [
    {
     "name": "stdout",
     "output_type": "stream",
     "text": [
      "['apple', 'banana', 'cherry']\n",
      "apple\n",
      "['apple', 'banana', 'cherry', 'orange']\n",
      "['apple', 'cherry', 'orange']\n",
      "apple\n",
      "cherry\n",
      "orange\n"
     ]
    }
   ],
   "source": [
    "# Example 1: Creating a list of fruits\n",
    "fruits = ['apple', 'banana', 'cherry']\n",
    "print(fruits)\n",
    "\n",
    "# Example 2: Accessing elements by index\n",
    "print(fruits[0])  # Output: apple\n",
    "\n",
    "# Example 3: Adding an item to the list\n",
    "fruits.append('orange')\n",
    "print(fruits)\n",
    "\n",
    "# Example 4: Removing an item from the list\n",
    "fruits.remove('banana')\n",
    "print(fruits)\n",
    "\n",
    "# Example 5: Looping through a list\n",
    "for fruit in fruits:\n",
    "    print(fruit)"
   ]
  },
  {
   "cell_type": "code",
   "execution_count": null,
   "id": "a5121bba",
   "metadata": {},
   "outputs": [],
   "source": [
    "# .append(): Adds an item to the end of the list\n",
    "fruits.append('grape')\n",
    "print(fruits)  # Output: ['apple', 'cherry', 'orange', 'grape']\n",
    "\n",
    "# .pop(): Removes and returns the last item (or item at given index)\n",
    "removed_fruit = fruits.pop()  # Removes 'grape'\n",
    "print(removed_fruit)          # Output: grape\n",
    "print(fruits)                 # Output: ['apple', 'cherry', 'orange']\n",
    "\n",
    "# .insert(): Inserts an item at a specific index\n",
    "fruits.insert(1, 'banana')\n",
    "print(fruits)  # Output: ['apple', 'banana', 'cherry', 'orange']\n",
    "\n",
    "# .index(): Returns the index of the first occurrence of a value\n",
    "idx = fruits.index('orange')\n",
    "print(idx)  # Output: 3\n",
    "\n",
    "# .count(): Counts the number of times a value appears\n",
    "count_orange = fruits.count('orange')\n",
    "print(count_orange)  # Output: 1\n",
    "\n",
    "# .sort(): Sorts the list in place\n",
    "fruits.sort()\n",
    "print(fruits)  # Output: ['apple', 'banana', 'cherry', 'orange']\n",
    "\n",
    "# .reverse(): Reverses the list in place\n",
    "fruits.reverse()\n",
    "print(fruits)  # Output: ['orange', 'cherry', 'banana', 'apple']"
   ]
  },
  {
   "cell_type": "code",
   "execution_count": null,
   "id": "60e0fdb1",
   "metadata": {},
   "outputs": [],
   "source": [
    "# Change the value at index 1 ('cherry') to 'kiwi'\n",
    "fruits[1] = 'kiwi'\n",
    "print(fruits)  # Output: ['apple', 'kiwi', 'orange']\n",
    "\n",
    "# Change the value at index 2 ('orange') to 'mango'\n",
    "fruits[2] = 'mango'\n",
    "print(fruits)  # Output: ['apple', 'kiwi', 'mango']"
   ]
  },
  {
   "cell_type": "markdown",
   "id": "0591154f",
   "metadata": {},
   "source": [
    "<h1 align=\"middle\">Example program</h1>"
   ]
  },
  {
   "cell_type": "code",
   "execution_count": 2,
   "id": "7b32de8a",
   "metadata": {},
   "outputs": [],
   "source": [
    "! python3 ../programs/chapter-4-lists.py"
   ]
  },
  {
   "cell_type": "code",
   "execution_count": null,
   "id": "ec32f089",
   "metadata": {},
   "outputs": [],
   "source": []
  }
 ],
 "metadata": {
  "kernelspec": {
   "display_name": ".venv",
   "language": "python",
   "name": "python3"
  },
  "language_info": {
   "codemirror_mode": {
    "name": "ipython",
    "version": 3
   },
   "file_extension": ".py",
   "mimetype": "text/x-python",
   "name": "python",
   "nbconvert_exporter": "python",
   "pygments_lexer": "ipython3",
   "version": "3.13.3"
  }
 },
 "nbformat": 4,
 "nbformat_minor": 5
}
