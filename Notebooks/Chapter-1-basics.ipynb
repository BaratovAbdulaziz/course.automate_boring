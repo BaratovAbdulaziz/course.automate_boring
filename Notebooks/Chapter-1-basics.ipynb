{
 "cells": [
  {
   "cell_type": "markdown",
   "id": "83e18ecf",
   "metadata": {},
   "source": [
    "# Basics"
   ]
  },
  {
   "cell_type": "code",
   "execution_count": null,
   "id": "12675677",
   "metadata": {},
   "outputs": [
    {
     "data": {
      "text/plain": [
       "4"
      ]
     },
     "execution_count": 1,
     "metadata": {},
     "output_type": "execute_result"
    }
   ],
   "source": [
    "# 2s are values\n",
    "\n",
    "2+2\n",
    "\n",
    "# \"+\" is an operator"
   ]
  },
  {
   "cell_type": "code",
   "execution_count": null,
   "id": "9fd99283",
   "metadata": {},
   "outputs": [],
   "source": [
    "# we can also use values themselves\n",
    "\n",
    "2\n",
    "\n",
    "# it returns the same value"
   ]
  },
  {
   "cell_type": "code",
   "execution_count": null,
   "id": "c017daab",
   "metadata": {},
   "outputs": [
    {
     "name": "stdout",
     "output_type": "stream",
     "text": [
      "11.0\n",
      "16\n",
      "7.0\n",
      "1.0\n",
      "0.30000000000000004\n",
      "0.10000000000000142\n"
     ]
    }
   ],
   "source": [
    "# problem solving is done in the order we learn ay school\n",
    "# 1.()\n",
    "\n",
    "# 2.multiplication \n",
    "\n",
    "# 3.division \n",
    "\n",
    "# 4.addition / subtraction\n",
    "\n",
    "\n",
    "# Examples:\n",
    "\n",
    "# 1st example\n",
    "\n",
    "print(2 + 6 * 2*(2-1.5)+3)\n",
    "\n",
    "# 2nd example\n",
    "\n",
    "print(2**4)\n",
    "\n",
    "# 3rd example\n",
    "\n",
    "print(49/7)\n",
    "\n",
    "# 4th example (\"//\" rounds)\n",
    "\n",
    "print(1//0.7)\n",
    "\n",
    "# 5th example (\"%\" shows only the reminder)\n",
    "\n",
    "print(1%0.7)\n",
    "\n",
    "# 6th example little complicated\n",
    "\n",
    "print(8+6*((0.3+0.7)*(0.1+1.9+4*0.5)+(3%2)+(-3))+(-19.9))"
   ]
  },
  {
   "cell_type": "code",
   "execution_count": null,
   "id": "31a00fa8",
   "metadata": {},
   "outputs": [
    {
     "name": "stdout",
     "output_type": "stream",
     "text": [
      "5 -\n",
      "in valid expression ('syntax error') missing second value\n",
      "+-\n",
      "expressions can not be added/subtracted etc...\n"
     ]
    }
   ],
   "source": [
    "#syntax error common cause:\n",
    "\n",
    "# 1.required 2nd value\n",
    "\n",
    "print(\"5 -\")\n",
    "print(f\"in valid expression ('syntax error') missing second value\")\n",
    "\n",
    "# can not opiate using only operators\n",
    "\n",
    "print (\"+-\")\n",
    "print(\"expressions can not be added/subtracted etc...\")"
   ]
  },
  {
   "cell_type": "code",
   "execution_count": null,
   "id": "0a941737",
   "metadata": {},
   "outputs": [
    {
     "name": "stdout",
     "output_type": "stream",
     "text": [
      "<class 'str'>\n",
      "<class 'int'>\n",
      "<class 'float'>\n",
      "<class 'bool'>\n",
      "<class 'list'>\n",
      "<class 'dict'>\n"
     ]
    }
   ],
   "source": [
    "# Data types:\n",
    "\n",
    "# first data type \"str\"\n",
    "\n",
    "print(type(\"Hello, World!!!\")) # string\n",
    "\n",
    "# second data type \"int\"\n",
    "\n",
    "print(type(4)) # Integer\n",
    "\n",
    "# third data type \"Float\"\n",
    "\n",
    "print(type(1.5)) #Float\n",
    "\n",
    "# fourth data type \"bool\"\n",
    "\n",
    "print(type(True)) #boolean\n",
    "\n",
    "# Fifth data type \"list\"\n",
    "\n",
    "print(type([\"a\",\"b\",\"c\"])) # list\n",
    "\n",
    "# contains several values in one variable and each item has it's own id\n",
    "\n",
    "# sixth data type \"dict\"\n",
    "\n",
    "print(type({\"Ali\":{\"age\":12,\n",
    "                 \"Name\":\"Ali\"}})) # dictionary\n",
    "\n",
    "# dictionaries contain key value pairs where we can use key to access value or wise versa"
   ]
  },
  {
   "cell_type": "code",
   "execution_count": 36,
   "id": "194561ed",
   "metadata": {},
   "outputs": [
    {
     "name": "stdout",
     "output_type": "stream",
     "text": [
      "We got this bro \n",
      " a\n",
      " a\n",
      " a\n",
      " a\n",
      " a\n"
     ]
    }
   ],
   "source": [
    "# String concatenation\n",
    "\n",
    "# addition\n",
    "\n",
    "\"Ali\"+\" \"+\"we get all done today\"\n",
    "\n",
    "\n",
    "# \"Ali\"+ 2 ----===>>> TypeError\n",
    "\n",
    "#Multiplication \n",
    "\n",
    "print(\"We got this bro \" + f\"\\n a\"*5)\n",
    "\n",
    "# We can not eacute str*str\n",
    "\n",
    "# \"sokhib\"*\"abdulaziz\"-----===>>> TypeError "
   ]
  },
  {
   "cell_type": "code",
   "execution_count": null,
   "id": "6dc34705",
   "metadata": {},
   "outputs": [
    {
     "name": "stdout",
     "output_type": "stream",
     "text": [
      "99\n",
      "100\n",
      "125\n"
     ]
    }
   ],
   "source": [
    "# we have variable which are simply containers that can contain any shown above and others\n",
    "\n",
    "\n",
    "spam = 99\n",
    "\n",
    "# variable spam contains value:99\n",
    "\n",
    "# printing out the value of spam\n",
    "\n",
    "print(spam)\n",
    "\n",
    "# output: 99\n",
    "\n",
    "# most use case\n",
    "\n",
    "spam +=1\n",
    "# added 1 point in to the variable spam\n",
    "\n",
    "# printing out the result to check if it is working\n",
    "\n",
    "print(spam) #output:100\n",
    "\n",
    "# experiment with 2 variable \n",
    "\n",
    "any_number = 25\n",
    "\n",
    "# any_number was assigned to the value 25\n",
    "\n",
    "result= spam+ any_number\n",
    "\n",
    "# result is equal to sum of spam and any_number\n",
    "\n",
    "print(result) #output:125\n",
    "\n",
    "# checking out the results"
   ]
  },
  {
   "cell_type": "code",
   "execution_count": null,
   "id": "56291528",
   "metadata": {},
   "outputs": [
    {
     "name": "stdout",
     "output_type": "stream",
     "text": [
      "Hello\n",
      "good night!!!\n"
     ]
    }
   ],
   "source": [
    "spam = \"Hello\"\n",
    "# spam is assigned to the string Hello\n",
    "\n",
    "print(spam) #output: Hello\n",
    "\n",
    "# printed out the string\n",
    "\n",
    "spam =\"good night!!!\"\n",
    "\n",
    "# spam was reassigned to good night\n",
    "\n",
    "print(spam)\n",
    "# printing out the result\n",
    "# output:good night!!!"
   ]
  },
  {
   "cell_type": "code",
   "execution_count": null,
   "id": "046b3f2c",
   "metadata": {},
   "outputs": [],
   "source": [
    "# correct variable\n",
    "\n",
    "\n",
    "# no variable name starting with numbers\n",
    "\n",
    "# 2nd_spam ===> incorrect\n",
    "#spam2/spam_2/_24 ===> correct\n",
    "\n",
    "\n",
    "# no \"-\" in variable name\n",
    "# \"_\" is available\n",
    "\n",
    "\n",
    "# my-balance======> incorrect\n",
    "# my balance =======> correct\n",
    "\n",
    "# spaces are not allowed in variable names\n",
    "\n",
    "# my name ======> incorrect\n",
    "# my_name=====> correct \n",
    "\n",
    "# special characters are not allowed\n",
    "\n",
    "# \"%\" is not allowed because Aviator\n",
    "# <'>represents string  "
   ]
  },
  {
   "cell_type": "code",
   "execution_count": null,
   "id": "d07342fe",
   "metadata": {},
   "outputs": [
    {
     "name": "stdout",
     "output_type": "stream",
     "text": [
      "less\n",
      "result of ==\n",
      "result of !=\n",
      "result of <=\n"
     ]
    }
   ],
   "source": [
    "# Functions\n",
    "\n",
    "\n",
    "# len(string value) --==> \"len is basically \"length\" and it only takes string values\n",
    "\n",
    "\n",
    "len(\"weeeasdasdawadawdawdasdawawdasdawdaawdasdas\")\n",
    "# interesting use case\n",
    "foo = \"length\"\n",
    "if len(foo) == 7:\n",
    "    pass\n",
    "else:\n",
    "    print(\"less\")\n",
    "# len(12) --==>>>> type error\n",
    "# other values hits the type error\n",
    "\n",
    "\n",
    "\n",
    "# if value condition parameter: -+=> set up results to certain conditions\n",
    "\n",
    "\n",
    "# operators that are mostly used in if conditionals\n",
    "    # \"<=\" ---===>> means first value is less or equal to second value- >>>> returns True\n",
    "    # \">=\" ---+===>> means first value is more or equal to second value >>>> returns True\n",
    "    # \"==\"---====>>> means both values are exactly the same------------ >>>> returns True\n",
    "    # \"!=\"---====>>>> means both sides are not the same---------------- >>>> returns True\n",
    "    # \"<\" ---=====>>>>> first Value is less than the second one-------->>>>>>returns True\n",
    "    # \">\" ---=====>>>>> first Value is more than the second one-------->>>>>>returns True\n",
    "\n",
    "    \n",
    "    #Examples:\n",
    "if \"a\"==\"a\":\n",
    "    print(\"result of ==\")\n",
    "if 12 != 11:\n",
    "    print(\"result of !=\")\n",
    "if 11<=12:\n",
    "    print(\"result of <=\")\n",
    "if 12>=11:\n",
    "    print(\"result of >=\")\n",
    "if 1>0:\n",
    "    print(\"result of >\")\n",
    "if 1<2:\n",
    "    print(\"result of <\")\n",
    "\n",
    "\n",
    "\n",
    "# if function checking more than 2 conditions \n",
    "\n",
    "# If conditionals have different kinds of methods to set requirements\n",
    "\n",
    "# if condition1 ____ condition2:\n",
    "\n",
    "# and -------=======>>>> means both conditions are True\n",
    "# or --=> at least 1 condition should be true for the function  return True\n",
    "\n",
    "# elif -====> means if condition above is false  try this condition\n",
    "# else -====> means if none of the conditions above returned True do this\n",
    "\n",
    "\n",
    "# input(string or no value) -=====>>> input is simply put inside\n",
    "# used to assign a user input to a variable\n",
    "\n",
    "# Examples are in the programs"
   ]
  },
  {
   "cell_type": "code",
   "execution_count": 9,
   "id": "65cc0647",
   "metadata": {},
   "outputs": [
    {
     "name": "stdout",
     "output_type": "stream",
     "text": [
      "you have 7 chances the number is >= 1 and number <= 25\n",
      "write any numberTraceback (most recent call last):\n",
      "  File \"/home/key/work-space/cources/-course_automate_boring_stuff_python_by_AL/Notebooks/../programs/Chapter-1-python_basics.py\", line 56, in <module>\n",
      "    main() \n",
      "    ^^^^^^\n",
      "  File \"/home/key/work-space/cources/-course_automate_boring_stuff_python_by_AL/Notebooks/../programs/Chapter-1-python_basics.py\", line 23, in main\n",
      "    user_gees = int(input(\"write any number\"))\n",
      "                    ^^^^^^^^^^^^^^^^^^^^^^^^^\n",
      "KeyboardInterrupt\n",
      "^C\n"
     ]
    }
   ],
   "source": [
    "! python3 ../programs/Chapter-1-python_basics.py\n"
   ]
  },
  {
   "cell_type": "code",
   "execution_count": null,
   "id": "85472cf5",
   "metadata": {},
   "outputs": [],
   "source": []
  }
 ],
 "metadata": {
  "kernelspec": {
   "display_name": ".venv",
   "language": "python",
   "name": "python3"
  },
  "language_info": {
   "codemirror_mode": {
    "name": "ipython",
    "version": 3
   },
   "file_extension": ".py",
   "mimetype": "text/x-python",
   "name": "python",
   "nbconvert_exporter": "python",
   "pygments_lexer": "ipython3",
   "version": "3.11.2"
  }
 },
 "nbformat": 4,
 "nbformat_minor": 5
}
