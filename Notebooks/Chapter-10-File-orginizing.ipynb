{
 "cells": [
  {
   "cell_type": "markdown",
   "id": "f4e21f10",
   "metadata": {},
   "source": [
    "# organizing files"
   ]
  },
  {
   "cell_type": "code",
   "execution_count": 11,
   "id": "fb3c4e72",
   "metadata": {},
   "outputs": [],
   "source": [
    "from pathlib import Path\n",
    "# Path module makes finding interacting with filepath very easy and cross platform\n",
    "import shutil,os\n",
    "# needed module is shutil as the short for shell utilities\n",
    "\n",
    "\n",
    "home_dir = Path.home()\n",
    "# specifying home dir as the path for that directory\n",
    "\n",
    "os.mkdir(home_dir / \"test\")\n",
    "# made a file to test a module by moving deleting etc...\n",
    "\n",
    "with open(home_dir / \"test.txt\",\"w\") as file:\n",
    "    file.write(\"root\")\n",
    "#  made a file to interact with\n",
    "\n",
    "shutil.copy(home_dir / \"test.txt\",home_dir / \"test\" / \"copied.txt\")\n",
    "# used shutil and copy method to copy file and rename that on the way!\n",
    "\n",
    "shutil.copytree(home_dir / \"test\",home_dir / \"workspace\" / \"delete me\")\n",
    "# we copied entire folder to /home/username/test to /home/username/workspace\n",
    "\n",
    "shutil.move(home_dir / \"test\",home_dir / \"workspace\" / \"delete me\" / \"test\")\n",
    "# moved original file too\n",
    "\n",
    "shutil.rmtree(home_dir / \"workspace\" / \"delete me\")"
   ]
  },
  {
   "cell_type": "markdown",
   "id": "fbaeb51d",
   "metadata": {},
   "source": [
    "# done"
   ]
  }
 ],
 "metadata": {
  "kernelspec": {
   "display_name": "Python 3",
   "language": "python",
   "name": "python3"
  },
  "language_info": {
   "codemirror_mode": {
    "name": "ipython",
    "version": 3
   },
   "file_extension": ".py",
   "mimetype": "text/x-python",
   "name": "python",
   "nbconvert_exporter": "python",
   "pygments_lexer": "ipython3",
   "version": "3.11.2"
  }
 },
 "nbformat": 4,
 "nbformat_minor": 5
}
