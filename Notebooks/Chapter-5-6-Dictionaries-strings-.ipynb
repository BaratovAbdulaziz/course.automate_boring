{
 "cells": [
  {
   "cell_type": "markdown",
   "id": "f9b11965",
   "metadata": {},
   "source": [
    "# 📘 Python Dictionary Basics\n",
    "\n",
    "In Python, a **dictionary** is a collection of **key-value pairs**. It is defined using curly braces `{}`.\n",
    "\n",
    "## 🔑 Creating a Dictionary\n",
    "\n",
    "```python\n",
    "# Empty dictionary\n",
    "my_dict = {}\n",
    "\n",
    "# Dictionary with data\n",
    "person = {\n",
    "    \"name\": \"Alice\",\n",
    "    \"age\": 25,\n",
    "    \"city\": \"New York\"\n",
    "}\n"
   ]
  },
  {
   "cell_type": "markdown",
   "id": "7cc655dd",
   "metadata": {},
   "source": [
    "# 🧵 Python String Methods & Comprehensions\n",
    "\n",
    "## 📌 String Methods\n",
    "\n",
    "Strings in Python are immutable sequences of characters. Here are some common and useful methods:\n",
    "\n",
    "```python\n",
    "text = \"  Hello, World!  \"\n",
    "\n",
    "print(text.strip())        # Removes leading/trailing spaces\n",
    "print(text.lower())        # '  hello, world!  '\n",
    "print(text.upper())        # '  HELLO, WORLD!  '\n",
    "print(text.replace(\"World\", \"Python\"))  # '  Hello, Python!  '\n",
    "print(text.split(\",\"))     # ['  Hello', ' World!  ']\n",
    "print(text.find(\"lo\"))     # 3\n",
    "print(text.startswith(\"  H\"))  # True\n",
    "print(text.endswith(\"!  \"))    # True\n"
   ]
  },
  {
   "cell_type": "markdown",
   "id": "00ca1c30",
   "metadata": {},
   "source": [
    "# Examples"
   ]
  },
  {
   "cell_type": "code",
   "execution_count": null,
   "id": "25eba487",
   "metadata": {},
   "outputs": [],
   "source": [
    "# Importing time module (optional, currently unused)\n",
    "import time\n",
    "\n",
    "# Global variable: an empty dictionary to store user info\n",
    "log_in = {}\n",
    "\n",
    "# Function to handle user sign-up\n",
    "def sign_up():\n",
    "    global log_in  # Reference the global log_in dictionary\n",
    "    name = input(\"enter your name: \")  # Ask user for name\n",
    "    password = input(\"enter your password: \")  # Ask user for password\n",
    "    secret = input(\"Enter your secret key: \")  # Ask user for secret key\n",
    "\n",
    "    # Check that the name is not just numbers\n",
    "    if not name.isdigit():\n",
    "        # Store user info in the dictionary with name as key\n",
    "        log_in[name] = {\n",
    "            \"password\": password,\n",
    "            \"s_key\": secret,\n",
    "        }\n",
    "        print(\"sign up complete!\")  # Confirmation message\n",
    "        pass  # Unnecessary here but doesn't cause issues\n",
    "    else:\n",
    "        # If name is only digits, reject it\n",
    "        print(\"names should not have only numbers\")\n",
    "        pass  # Also unnecessary\n",
    "\n",
    "# Function to handle user sign-in or sign-up\n",
    "def sign_in():\n",
    "    # Ask if the user already has an account\n",
    "    checkpoint1 = input(\"Do you have an account?(Y/N):\").lower()\n",
    "\n",
    "    # If user says no, trigger sign-up\n",
    "    if checkpoint1 == \"n\":\n",
    "        sign_up()\n",
    "\n",
    "    # If user says yes, proceed with login\n",
    "    if checkpoint1 == \"y\":\n",
    "        N_login = input(\"enter your name\")  # Ask for name\n",
    "\n",
    "        # Check if name exists in the login dictionary\n",
    "        if N_login in log_in.keys():\n",
    "            P_login = input(\"Password: \")  # Ask for password\n",
    "\n",
    "            # Verify the password matches\n",
    "            if P_login == log_in[N_login][\"password\"]:\n",
    "                print(\"log in complete\")  # Successful login\n",
    "            else:\n",
    "                print(\"Error\")  # This line does nothing (should be print)\n",
    "                pass\n",
    "            pass  # Optional, can be removed\n",
    "        else:\n",
    "            # If the name is not registered\n",
    "            print(\"Name is not listed please Restart the log in page!!!\")\n"
   ]
  },
  {
   "cell_type": "code",
   "execution_count": null,
   "id": "3b034ab6",
   "metadata": {},
   "outputs": [],
   "source": []
  }
 ],
 "metadata": {
  "kernelspec": {
   "display_name": "Python 3",
   "language": "python",
   "name": "python3"
  },
  "language_info": {
   "codemirror_mode": {
    "name": "ipython",
    "version": 3
   },
   "file_extension": ".py",
   "mimetype": "text/x-python",
   "name": "python",
   "nbconvert_exporter": "python",
   "pygments_lexer": "ipython3",
   "version": "3.11.2"
  }
 },
 "nbformat": 4,
 "nbformat_minor": 5
}
