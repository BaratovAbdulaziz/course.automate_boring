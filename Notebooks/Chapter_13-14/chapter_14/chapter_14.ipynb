{
 "cells": [
  {
   "cell_type": "code",
   "execution_count": 3,
   "id": "3ba3d919",
   "metadata": {},
   "outputs": [],
   "source": [
    "import ezsheets"
   ]
  },
  {
   "cell_type": "code",
   "execution_count": 27,
   "id": "5cf688d9",
   "metadata": {},
   "outputs": [],
   "source": [
    "ss = ezsheets.Spreadsheet(\"1q4Tq_L3L_I1eGjtu9qiR7P1Eh0-2sNikiYG-UN5z24k\")\n",
    "sheet = ss[0]\n",
    "sheet[\"A1\"] = \"\""
   ]
  },
  {
   "cell_type": "code",
   "execution_count": 29,
   "id": "d4874b9f",
   "metadata": {},
   "outputs": [],
   "source": [
    "random_number = 0\n",
    "def random_number_generator(first_number, second_number):\n",
    "    '''This is die'''\n",
    "    global random_number\n",
    "    import random\n",
    "    random_number = random.randint(first_number, second_number)\n",
    "\n",
    "for rows in range(1, 4):\n",
    "    for columns in [\"A\", \"B\", \"C\"]:\n",
    "        random_number_generator(1, 6) \n",
    "        sheet[f\"{columns}{rows}\"] = random_number\n"
   ]
  },
  {
   "cell_type": "markdown",
   "id": "40fd28e4",
   "metadata": {},
   "source": [
    "# listing all spreat sheets in google sheets"
   ]
  },
  {
   "cell_type": "code",
   "execution_count": 31,
   "id": "ca017f4c",
   "metadata": {},
   "outputs": [
    {
     "data": {
      "text/plain": [
       "<function ezsheets.listSpreadsheets()>"
      ]
     },
     "execution_count": 31,
     "metadata": {},
     "output_type": "execute_result"
    }
   ],
   "source": [
    "ezsheets.listSpreadsheets"
   ]
  },
  {
   "cell_type": "code",
   "execution_count": 35,
   "id": "0155005e",
   "metadata": {},
   "outputs": [
    {
     "data": {
      "text/plain": [
       "'testing.pdf'"
      ]
     },
     "execution_count": 35,
     "metadata": {},
     "output_type": "execute_result"
    }
   ],
   "source": [
    "ss.downloadAsPDF()\n",
    "# ss.downloadAsCSV()"
   ]
  },
  {
   "cell_type": "code",
   "execution_count": 36,
   "id": "8daebaea",
   "metadata": {},
   "outputs": [],
   "source": [
    "ss.delete(permanent=True)"
   ]
  },
  {
   "cell_type": "code",
   "execution_count": 37,
   "id": "b9e38cbe",
   "metadata": {},
   "outputs": [
    {
     "data": {
      "text/plain": [
       "<function ezsheets.listSpreadsheets()>"
      ]
     },
     "execution_count": 37,
     "metadata": {},
     "output_type": "execute_result"
    }
   ],
   "source": [
    "ezsheets.listSpreadsheets"
   ]
  }
 ],
 "metadata": {
  "kernelspec": {
   "display_name": "myenv",
   "language": "python",
   "name": "python3"
  },
  "language_info": {
   "codemirror_mode": {
    "name": "ipython",
    "version": 3
   },
   "file_extension": ".py",
   "mimetype": "text/x-python",
   "name": "python",
   "nbconvert_exporter": "python",
   "pygments_lexer": "ipython3",
   "version": "3.10.18"
  }
 },
 "nbformat": 4,
 "nbformat_minor": 5
}
