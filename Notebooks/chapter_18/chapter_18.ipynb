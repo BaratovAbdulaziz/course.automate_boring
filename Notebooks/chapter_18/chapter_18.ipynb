{
 "cells": [
  {
   "cell_type": "code",
   "execution_count": 12,
   "id": "a746526e",
   "metadata": {},
   "outputs": [],
   "source": [
    "import ezgmail"
   ]
  },
  {
   "cell_type": "code",
   "execution_count": null,
   "id": "5ca3dcdc",
   "metadata": {},
   "outputs": [
    {
     "name": "stdout",
     "output_type": "stream",
     "text": [
      "abdulazizbaratov12@gmail.com\n"
     ]
    }
   ],
   "source": [
    "print(ezgmail.EMAIL_ADDRESS)"
   ]
  },
  {
   "cell_type": "code",
   "execution_count": 6,
   "id": "b53779c7",
   "metadata": {},
   "outputs": [],
   "source": [
    "ezgmail.send(\"jobatat161@elobits.com\",\"argument\",\"test\",['/home/abdulaziz/workspace/cources/course.automate_boring/Notebooks/chapter_17/chapter_17.ipynb'])"
   ]
  },
  {
   "cell_type": "code",
   "execution_count": null,
   "id": "28739997",
   "metadata": {},
   "outputs": [],
   "source": [
    "# ezgmail.send('recipient@example.com', 'Here are files', 'Check attachments.',\n",
    "#              ['file1.pdf', 'image.png'])"
   ]
  },
  {
   "cell_type": "code",
   "execution_count": 21,
   "id": "478cf1dc",
   "metadata": {},
   "outputs": [
    {
     "name": "stdout",
     "output_type": "stream",
     "text": [
      "argument\n",
      "2025-08-11 05:45:52\n",
      "From: abdulazizbaratov12@gmail.com\n",
      "To: jobatat161@elobits.com\n",
      "\n",
      "argument\n",
      "2025-08-11 05:44:32\n",
      "From: abdulazizbaratov12@gmail.com\n",
      "To: lowika6387@elobits.com\n",
      "\n",
      "Come back to the party! 🥳 Start a new learning streak today!\n",
      "2025-08-11 05:24:57\n",
      "From: Khan Academy <no-reply@khanacademy.org>\n",
      "To: abdulazizbaratov12@gmail.com\n",
      "\n",
      "[pixiv] New login notification (Location: Uzbekistan)\n",
      "2025-08-10 21:38:56\n",
      "From: pixiv Staff <no-reply@pixiv.net>\n",
      "To: abdulazizbaratov12@gmail.com\n",
      "\n",
      "\"IELTS results, non-native\"\n",
      "2025-08-10 11:44:52\n",
      "From: Reddit <noreply@redditmail.com>\n",
      "To: abdulazizbaratov12@gmail.com\n",
      "\n",
      "\"ვეძებ სერიალის სახელს\"\n",
      "2025-08-09 11:45:23\n",
      "From: Reddit <noreply@redditmail.com>\n",
      "To: abdulazizbaratov12@gmail.com\n",
      "\n",
      "osu! account verification\n",
      "2025-08-09 07:26:58\n",
      "From: \"osu!\" <osu@ppy.sh>\n",
      "To: Abdulazizbaratov12@gmail.com\n",
      "\n",
      "Convex Product Update Vol. 22\n",
      "2025-08-08 17:33:31\n",
      "From: Convex Team <mail@convex.dev>\n",
      "To: <abdulazizbaratov12@gmail.com>\n",
      "\n",
      "\"Visa denied\"\n",
      "2025-08-08 11:34:59\n",
      "From: Reddit <noreply@redditmail.com>\n",
      "To: abdulazizbaratov12@gmail.com\n",
      "\n",
      "There’s still time to keep that streak! ⏲️\n",
      "2025-08-08 03:55:26\n",
      "From: Khan Academy <no-reply@khanacademy.org>\n",
      "To: abdulazizbaratov12@gmail.com\n",
      "\n"
     ]
    }
   ],
   "source": [
    "emails = ezgmail.recent(10)\n",
    "for email in emails:\n",
    "    message = email.messages[0]\n",
    "    print(message.subject)\n",
    "    print(message.timestamp)\n",
    "    print(\"From:\", message.sender)\n",
    "    print(\"To:\", message.recipient)\n",
    "    print()\n"
   ]
  },
  {
   "cell_type": "code",
   "execution_count": 44,
   "id": "b7763411",
   "metadata": {},
   "outputs": [
    {
     "name": "stdout",
     "output_type": "stream",
     "text": [
      "abdulazizbaratov12@gmail.com\n"
     ]
    },
    {
     "name": "stderr",
     "output_type": "stream",
     "text": [
      "/home/abdulaziz/miniconda3/envs/myenv/lib/python3.10/site-packages/ezgmail/__init__.py:827: UserWarning: Do not call the markAsRead() function directly, but rather the markAsRead() methods in the GmailMessage and GmailThread classes.\n",
      "  warnings.warn(\n"
     ]
    },
    {
     "name": "stdout",
     "output_type": "stream",
     "text": [
      "abdulazizbaratov12@gmail.com\n",
      "Google <no-reply@accounts.google.com>\n",
      "abdulazizbaratov12@gmail.com\n",
      "abdulazizbaratov12@gmail.com\n",
      "abdulazizbaratov12@gmail.com\n",
      "abdulazizbaratov12@gmail.com\n",
      "abdulazizbaratov12@gmail.com\n",
      "abdulazizbaratov12@gmail.com\n",
      "abdulazizbaratov12@gmail.com\n",
      "abdulazizbaratov12@gmail.com\n",
      "abdulazizbaratov12@gmail.com\n",
      "abdulazizbaratov12@gmail.com\n",
      "abdulazizbaratov12@gmail.com\n",
      "abdulazizbaratov12@gmail.com\n",
      "abdulazizbaratov12@gmail.com\n",
      "abdulazizbaratov12@gmail.com\n",
      "abdulazizbaratov12@gmail.com\n",
      "abdulazizbaratov12@gmail.com\n",
      "abdulazizbaratov12@gmail.com\n",
      "abdulazizbaratov12@gmail.com\n",
      "abdulazizbaratov12@gmail.com\n",
      "abdulazizbaratov12@gmail.com\n",
      "Khan Academy <no-reply@khanacademy.org>\n",
      "pixiv Staff <no-reply@pixiv.net>\n"
     ]
    }
   ],
   "source": [
    "import ezgmail\n",
    "ezgmail.init()\n",
    "unread = ezgmail.unread()\n",
    "for i in unread:\n",
    "    message = i.messages[0]\n",
    "    print(message.sender)\n",
    "    ezgmail.send(f\"{message.sender}\",\"red\",\"thanks\")\n",
    "    ezgmail.markAsRead(i.id)\n",
    "\n"
   ]
  },
  {
   "cell_type": "code",
   "execution_count": null,
   "id": "8c9ef824",
   "metadata": {},
   "outputs": [],
   "source": []
  }
 ],
 "metadata": {
  "kernelspec": {
   "display_name": "myenv",
   "language": "python",
   "name": "python3"
  },
  "language_info": {
   "codemirror_mode": {
    "name": "ipython",
    "version": 3
   },
   "file_extension": ".py",
   "mimetype": "text/x-python",
   "name": "python",
   "nbconvert_exporter": "python",
   "pygments_lexer": "ipython3",
   "version": "3.10.18"
  }
 },
 "nbformat": 4,
 "nbformat_minor": 5
}
