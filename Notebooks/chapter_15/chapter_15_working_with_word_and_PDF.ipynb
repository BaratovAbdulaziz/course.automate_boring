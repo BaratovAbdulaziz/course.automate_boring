{
 "cells": [
  {
   "cell_type": "code",
   "execution_count": 18,
   "id": "47e7bdf7",
   "metadata": {},
   "outputs": [],
   "source": [
    "import PyPDF2\n"
   ]
  },
  {
   "cell_type": "code",
   "execution_count": 27,
   "id": "0b814d86",
   "metadata": {},
   "outputs": [
    {
     "name": "stdout",
     "output_type": "stream",
     "text": [
      "3 2 1\n",
      "5 1 3\n",
      "4 4 2\n"
     ]
    }
   ],
   "source": [
    "import pypdf\n",
    "\n",
    "with open(\"testing.pdf\", \"rb\") as file:\n",
    "    reader = pypdf.PdfReader(file)\n",
    "    page = reader.pages[0]\n",
    "    print(page.extract_text())\n"
   ]
  },
  {
   "cell_type": "markdown",
   "id": "ba90aa66",
   "metadata": {},
   "source": [
    "# Tutor is outdated"
   ]
  },
  {
   "cell_type": "markdown",
   "id": "a57abf11",
   "metadata": {},
   "source": []
  }
 ],
 "metadata": {
  "kernelspec": {
   "display_name": "myenv",
   "language": "python",
   "name": "python3"
  },
  "language_info": {
   "codemirror_mode": {
    "name": "ipython",
    "version": 3
   },
   "file_extension": ".py",
   "mimetype": "text/x-python",
   "name": "python",
   "nbconvert_exporter": "python",
   "pygments_lexer": "ipython3",
   "version": "3.10.18"
  }
 },
 "nbformat": 4,
 "nbformat_minor": 5
}
