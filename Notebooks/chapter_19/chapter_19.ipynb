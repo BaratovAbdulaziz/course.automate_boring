{
 "cells": [
  {
   "cell_type": "code",
   "execution_count": 8,
   "id": "25950cde",
   "metadata": {},
   "outputs": [],
   "source": [
    "from PIL import Image"
   ]
  },
  {
   "cell_type": "code",
   "execution_count": null,
   "id": "0c0ce9db",
   "metadata": {},
   "outputs": [
    {
     "data": {
      "text/plain": [
       "(255, 0, 0, 255)"
      ]
     },
     "execution_count": 2,
     "metadata": {},
     "output_type": "execute_result"
    }
   ],
   "source": [
    "# ImageColor.getcolor(\"red\",\"RGBA\")"
   ]
  },
  {
   "cell_type": "code",
   "execution_count": 26,
   "id": "632491d2",
   "metadata": {},
   "outputs": [
    {
     "name": "stdout",
     "output_type": "stream",
     "text": [
      "./Image.png\n",
      "WEBP\n",
      "860 626\n"
     ]
    }
   ],
   "source": [
    "with Image.open(\"./Image.png\") as c_image:\n",
    "    width, height = c_image.size\n",
    "    print(c_image.filename)\n",
    "    print(c_image.format)\n",
    "    print(width, height)\n",
    "    \n",
    "    # Crop a 100x100 box starting at (12,12)\n",
    "    crop_box = (12, 12, 112, 112)  # right = 12 + 100, lower = 12 + 100\n",
    "    cropped_image = c_image.crop(crop_box)\n",
    "    cropped_image.save(\"cropped.png\")\n"
   ]
  },
  {
   "cell_type": "markdown",
   "id": "51dcd088",
   "metadata": {},
   "source": [
    "# refresh needed"
   ]
  }
 ],
 "metadata": {
  "kernelspec": {
   "display_name": "myenv",
   "language": "python",
   "name": "python3"
  },
  "language_info": {
   "codemirror_mode": {
    "name": "ipython",
    "version": 3
   },
   "file_extension": ".py",
   "mimetype": "text/x-python",
   "name": "python",
   "nbconvert_exporter": "python",
   "pygments_lexer": "ipython3",
   "version": "3.10.18"
  }
 },
 "nbformat": 4,
 "nbformat_minor": 5
}
