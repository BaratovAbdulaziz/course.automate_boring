{
 "cells": [
  {
   "cell_type": "markdown",
   "id": "b1274d0b",
   "metadata": {},
   "source": [
    "<h1 align=\"middle\">Functions</h1>\n",
    "\n",
    "### syntax: \"def\" function name(variable names \"comas for separate\"):\n",
    "#### ___> incantation  is a key for defining what the program do"
   ]
  },
  {
   "cell_type": "code",
   "execution_count": 1,
   "id": "7e7ab7bc",
   "metadata": {},
   "outputs": [
    {
     "name": "stdout",
     "output_type": "stream",
     "text": [
      "Hello!\n"
     ]
    }
   ],
   "source": [
    "# defining a function\n",
    "def say_hallo():\n",
    "    # must have indentation\n",
    "    \n",
    "    # printing \"Hello!\"\n",
    "    print(\"Hello!\")\n",
    "\n",
    "    # closing the function\n",
    "    pass\n",
    "\n",
    "# calling the function\n",
    "\n",
    "say_hallo()\n",
    "# output: Hello!"
   ]
  },
  {
   "cell_type": "code",
   "execution_count": null,
   "id": "c9de1a7b",
   "metadata": {},
   "outputs": [
    {
     "name": "stdout",
     "output_type": "stream",
     "text": [
      "5\n"
     ]
    }
   ],
   "source": [
    "# using variables inside a defined function\n",
    "def addition(a,b):\n",
    "    # each variable was separated by \",\"\n",
    "    \n",
    "    # printing out sum of a and b\n",
    "    print(a+b) \n",
    "    \n",
    "    # completing the function\n",
    "    pass\n",
    "\n",
    "# calling the function\n",
    "\n",
    "addition(2,3)\n",
    "# Output:5"
   ]
  },
  {
   "cell_type": "code",
   "execution_count": null,
   "id": "411f0e97",
   "metadata": {},
   "outputs": [
    {
     "data": {
      "text/plain": [
       "2"
      ]
     },
     "execution_count": 5,
     "metadata": {},
     "output_type": "execute_result"
    }
   ],
   "source": [
    "# functions also can return value\n",
    "\n",
    "# defining a function\n",
    "# takes one string and returns amount if letters in that letter\n",
    "def letter_count(word):\n",
    "    # reminder \":\" is important\n",
    "\n",
    "    # len function that counts letters in a word\n",
    "    # defining the result to the variable called amount\n",
    "    amount = len(word)\n",
    "    \n",
    "    # returning amount value\n",
    "    return amount\n",
    "\n",
    "# calling  the function\n",
    "letter_count(\"h1\")\n",
    "\n",
    "#output:2\n"
   ]
  },
  {
   "cell_type": "code",
   "execution_count": 16,
   "id": "c0007d94",
   "metadata": {},
   "outputs": [
    {
     "name": "stdout",
     "output_type": "stream",
     "text": [
      "hi world\n",
      "apple,juice,mango\n"
     ]
    }
   ],
   "source": [
    "# we have optional keyword in print statements called end=\"\" always aspirate different functions using \",\"\n",
    "# end=\"\" gives us opportunely to specify what the line will be ended with(default == \\n )\n",
    "# example:\n",
    "\n",
    "print(\"hi\",end=\" \")\n",
    "print(\"world\")\n",
    "\n",
    "# print has one more function (optional) called sep=\"\" that let us select separators\n",
    "# Example:\n",
    "print(\"apple\" ,\"juice\" ,\"mango\" ,sep=\",\")\n"
   ]
  },
  {
   "cell_type": "markdown",
   "id": "b22134b4",
   "metadata": {},
   "source": [
    "<h1 align=\"middle\">Function flow</h1>"
   ]
  },
  {
   "cell_type": "code",
   "execution_count": 3,
   "id": "3984882c",
   "metadata": {},
   "outputs": [
    {
     "name": "stdout",
     "output_type": "stream",
     "text": [
      "pc1 starts\n",
      "PC2 starts\n",
      "PC3 starts\n",
      "PC3 returns\n",
      "PC2 returns\n",
      "PC3 starts\n",
      "PC3 returns\n",
      "pc1 returns\n"
     ]
    }
   ],
   "source": [
    "# defining all function\n",
    "\n",
    "# function pc1\n",
    "\n",
    "def pc1():\n",
    "\n",
    "    print(\"pc1 starts\")\n",
    "    \n",
    "    # calling functions inside the functions\n",
    "\n",
    "    # calling 1st fiction\n",
    "    pc2()\n",
    "\n",
    "    # calling 2 nd FUNCTION\n",
    "\n",
    "    pc3()\n",
    "    print(\"pc1 returns\")\n",
    "    pass\n",
    "\n",
    "# defining 2nd function\n",
    "def pc2():\n",
    "    print(\"PC2 starts\")\n",
    "    pc3()\n",
    "    print(\"PC2 returns\")\n",
    "    pass\n",
    "\n",
    "# defining 3rd PC\n",
    "def pc3():\n",
    "    print(\"PC3 starts\")\n",
    "    print(\"PC3 returns\")\n",
    "    pass\n",
    "# defining functions complete\n",
    "\n",
    "# calling starting function\n",
    "\n",
    "pc1()"
   ]
  },
  {
   "cell_type": "markdown",
   "id": "b3883b8a",
   "metadata": {},
   "source": [
    "<h1 align=\"center\">explanation</h1>\n",
    "\n",
    "<h3 align=\"center\">How it works?</h3>\n",
    "<li><b>First function starts and prints that it started</b></li>\n",
    "<li><b>First functions calls an other function and waits for that to complete it's task</b></li>\n",
    "<li><b>by the time the second function that was called by the first function calls an other function and waits for it to complete ETC...</b></li>\n",
    "<li><b>After completing the 3 function says to go on with function2's task</b></li>\n",
    "<li><b>once all of that tasks are complete function one returns</b></li>"
   ]
  },
  {
   "cell_type": "markdown",
   "id": "b2ed4db2",
   "metadata": {},
   "source": [
    "<h1 align=\"center\">global and local scopes</h1>"
   ]
  },
  {
   "cell_type": "code",
   "execution_count": 6,
   "id": "f1a596ed",
   "metadata": {},
   "outputs": [
    {
     "name": "stdout",
     "output_type": "stream",
     "text": [
      "10\n"
     ]
    }
   ],
   "source": [
    "# global scope is any block of unintended code\n",
    "\n",
    "# For example\n",
    "\n",
    "eggs = 10\n",
    "print(eggs)\n",
    "# returns: 110\n",
    "\n",
    "# even inside defining function we can use variable in global scope\n",
    "\n",
    "def count():\n",
    "    \n",
    "    print(eggs)\n",
    "    # returns:10\n",
    "\n",
    "    # but we can not change the value of the global variable from a function\n",
    "    \n",
    "    # example:\n",
    "\n",
    "    eggs =12\n",
    "    print(eggs)\n",
    "    # output:10"
   ]
  },
  {
   "cell_type": "code",
   "execution_count": null,
   "id": "edaa76cd",
   "metadata": {},
   "outputs": [
    {
     "name": "stdout",
     "output_type": "stream",
     "text": [
      "200\n"
     ]
    }
   ],
   "source": [
    "# to change global variables through functions we have function global + global variable name\n",
    "# example\n",
    "\n",
    "# setting a global variable \n",
    "foo =100\n",
    "\n",
    "# function to change it form 100 to 200\n",
    "def value_changer():\n",
    "    \n",
    "    # taking global variable foo\n",
    "    global foo\n",
    "    \n",
    "    # changing the value of foo to 200\n",
    "\n",
    "    foo = 200\n",
    "    \n",
    "    # printing the result\n",
    "    print(foo)\n",
    "    pass\n",
    "\n",
    "# calling the function\n",
    "value_changer()\n",
    "\n",
    "# output 200\n"
   ]
  },
  {
   "cell_type": "code",
   "execution_count": 9,
   "id": "73879bc8",
   "metadata": {},
   "outputs": [
    {
     "name": "stdout",
     "output_type": "stream",
     "text": [
      "True\n"
     ]
    },
    {
     "ename": "NameError",
     "evalue": "name 'Code' is not defined",
     "output_type": "error",
     "traceback": [
      "\u001b[31m---------------------------------------------------------------------------\u001b[39m",
      "\u001b[31mNameError\u001b[39m                                 Traceback (most recent call last)",
      "\u001b[36mCell\u001b[39m\u001b[36m \u001b[39m\u001b[32mIn[9]\u001b[39m\u001b[32m, line 21\u001b[39m\n\u001b[32m     17\u001b[39m nothing()\n\u001b[32m     18\u001b[39m \u001b[38;5;66;03m# it should printout True\u001b[39;00m\n\u001b[32m     19\u001b[39m \n\u001b[32m     20\u001b[39m \u001b[38;5;66;03m# printing variable code in global scope \u001b[39;00m\n\u001b[32m---> \u001b[39m\u001b[32m21\u001b[39m \u001b[38;5;28mprint\u001b[39m(\u001b[43mCode\u001b[49m)\n\u001b[32m     22\u001b[39m \u001b[38;5;66;03m# name error\u001b[39;00m\n",
      "\u001b[31mNameError\u001b[39m: name 'Code' is not defined"
     ]
    }
   ],
   "source": [
    "# local scopes can not be used in global scope otherwise Name error\n",
    "\n",
    "# example:\n",
    "\n",
    "def nothing():\n",
    "\n",
    "    # pated value True to local variable code\n",
    "    code=True\n",
    "    \n",
    "    # printing out inside the function\n",
    "    print(code)\n",
    "    \n",
    "    # completing definition of the function\n",
    "    pass\n",
    "\n",
    "# calling the function nothing\n",
    "nothing()\n",
    "# it should printout True\n",
    "\n",
    "# printing variable code in global scope \n",
    "print(Code)\n",
    "# name error\n"
   ]
  },
  {
   "cell_type": "code",
   "execution_count": 12,
   "id": "ca9c8689",
   "metadata": {},
   "outputs": [
    {
     "name": "stdout",
     "output_type": "stream",
     "text": [
      "True\n",
      "False\n"
     ]
    }
   ],
   "source": [
    "# we can use the same variable name in global and local scopes\n",
    "\n",
    "# example:\n",
    "\n",
    "is_true = True\n",
    "\n",
    "def Check_is_true():\n",
    "    \n",
    "    is_true = False\n",
    "\n",
    "    print(is_true)\n",
    "\n",
    "# printing the variable is_true from global\n",
    "print(is_true)\n",
    "\n",
    "# running a function that prints variable is_true from local scope\n",
    "Check_is_true()\n",
    "\n",
    "# output: True\n",
    "# output:False"
   ]
  },
  {
   "cell_type": "code",
   "execution_count": null,
   "id": "7e54a2ed",
   "metadata": {},
   "outputs": [],
   "source": [
    "# zig-zag\n",
    "\n",
    "! python3 ../programs/Chapter-3-Functions.py "
   ]
  }
 ],
 "metadata": {
  "kernelspec": {
   "display_name": ".venv",
   "language": "python",
   "name": "python3"
  },
  "language_info": {
   "codemirror_mode": {
    "name": "ipython",
    "version": 3
   },
   "file_extension": ".py",
   "mimetype": "text/x-python",
   "name": "python",
   "nbconvert_exporter": "python",
   "pygments_lexer": "ipython3",
   "version": "3.13.3"
  }
 },
 "nbformat": 4,
 "nbformat_minor": 5
}
